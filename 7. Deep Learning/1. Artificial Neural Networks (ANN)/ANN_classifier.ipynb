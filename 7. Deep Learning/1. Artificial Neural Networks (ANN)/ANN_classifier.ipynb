{
 "cells": [
  {
   "cell_type": "code",
   "execution_count": 2,
   "metadata": {
    "collapsed": true
   },
   "outputs": [],
   "source": [
    "# Importing the libraries\n",
    "import numpy as np\n",
    "import matplotlib.pyplot as plt\n",
    "import pandas as pd"
   ]
  },
  {
   "cell_type": "code",
   "execution_count": 3,
   "metadata": {
    "collapsed": true
   },
   "outputs": [],
   "source": [
    "# Importing the dataset\n",
    "dataset = pd.read_csv('Churn_Modelling.csv')\n",
    "X = dataset.iloc[:, 3:13].values\n",
    "y = dataset.iloc[:, 13].values"
   ]
  },
  {
   "cell_type": "code",
   "execution_count": 4,
   "metadata": {
    "collapsed": true
   },
   "outputs": [],
   "source": [
    "# Encoding categorical data\n",
    "from sklearn.preprocessing import LabelEncoder, OneHotEncoder\n",
    "labelencoder_X_1 = LabelEncoder()\n",
    "X[:, 1] = labelencoder_X_1.fit_transform(X[:, 1])\n",
    "labelencoder_X_2 = LabelEncoder()\n",
    "X[:, 2] = labelencoder_X_2.fit_transform(X[:, 2])\n",
    "onehotencoder = OneHotEncoder(categorical_features = [1])\n",
    "X = onehotencoder.fit_transform(X).toarray()\n",
    "X = X[:, 1:]"
   ]
  },
  {
   "cell_type": "code",
   "execution_count": 5,
   "metadata": {
    "collapsed": true
   },
   "outputs": [],
   "source": [
    "# Splitting the dataset into the Training set and Test set\n",
    "from sklearn.model_selection import train_test_split\n",
    "X_train, X_test, y_train, y_test = train_test_split(X, y, test_size = 0.2, random_state = 0)"
   ]
  },
  {
   "cell_type": "code",
   "execution_count": 6,
   "metadata": {
    "collapsed": true
   },
   "outputs": [],
   "source": [
    "# Feature Scaling\n",
    "from sklearn.preprocessing import StandardScaler\n",
    "sc = StandardScaler()\n",
    "X_train = sc.fit_transform(X_train)\n",
    "X_test = sc.transform(X_test)"
   ]
  },
  {
   "cell_type": "code",
   "execution_count": 8,
   "metadata": {
    "collapsed": true
   },
   "outputs": [],
   "source": [
    "# Importing the Keras libraries and packages\n",
    "import keras\n",
    "from keras.models import Sequential\n",
    "from keras.layers import Dense"
   ]
  },
  {
   "cell_type": "code",
   "execution_count": 9,
   "metadata": {
    "collapsed": true
   },
   "outputs": [],
   "source": [
    "# Initialising the ANN\n",
    "classifier = Sequential()"
   ]
  },
  {
   "cell_type": "code",
   "execution_count": 10,
   "metadata": {},
   "outputs": [
    {
     "name": "stderr",
     "output_type": "stream",
     "text": [
      "C:\\Users\\Abhishek Rapelli\\Anaconda3\\lib\\site-packages\\ipykernel_launcher.py:2: UserWarning: Update your `Dense` call to the Keras 2 API: `Dense(activation=\"relu\", input_dim=11, units=6, kernel_initializer=\"uniform\")`\n",
      "  \n"
     ]
    }
   ],
   "source": [
    "# Adding the input layer and the first hidden layer\n",
    "classifier.add(Dense(output_dim = 6, init = 'uniform', activation = 'relu', input_dim = 11))"
   ]
  },
  {
   "cell_type": "code",
   "execution_count": 11,
   "metadata": {},
   "outputs": [
    {
     "name": "stderr",
     "output_type": "stream",
     "text": [
      "C:\\Users\\Abhishek Rapelli\\Anaconda3\\lib\\site-packages\\ipykernel_launcher.py:2: UserWarning: Update your `Dense` call to the Keras 2 API: `Dense(activation=\"relu\", units=6, kernel_initializer=\"uniform\")`\n",
      "  \n"
     ]
    }
   ],
   "source": [
    "# Adding the second hidden layer\n",
    "classifier.add(Dense(output_dim = 6, init = 'uniform', activation = 'relu'))"
   ]
  },
  {
   "cell_type": "code",
   "execution_count": 12,
   "metadata": {},
   "outputs": [
    {
     "name": "stderr",
     "output_type": "stream",
     "text": [
      "C:\\Users\\Abhishek Rapelli\\Anaconda3\\lib\\site-packages\\ipykernel_launcher.py:2: UserWarning: Update your `Dense` call to the Keras 2 API: `Dense(activation=\"sigmoid\", units=1, kernel_initializer=\"uniform\")`\n",
      "  \n"
     ]
    }
   ],
   "source": [
    "# Adding the output layer\n",
    "classifier.add(Dense(output_dim = 1, init = 'uniform', activation = 'sigmoid'))"
   ]
  },
  {
   "cell_type": "code",
   "execution_count": 14,
   "metadata": {
    "collapsed": true
   },
   "outputs": [],
   "source": [
    "# Compiling the ANN\n",
    "classifier.compile(optimizer = 'adam', loss = 'binary_crossentropy', metrics = ['accuracy'])"
   ]
  },
  {
   "cell_type": "code",
   "execution_count": 15,
   "metadata": {},
   "outputs": [
    {
     "name": "stderr",
     "output_type": "stream",
     "text": [
      "C:\\Users\\Abhishek Rapelli\\Anaconda3\\lib\\site-packages\\keras\\models.py:848: UserWarning: The `nb_epoch` argument in `fit` has been renamed `epochs`.\n",
      "  warnings.warn('The `nb_epoch` argument in `fit` '\n"
     ]
    },
    {
     "name": "stdout",
     "output_type": "stream",
     "text": [
      "Epoch 1/100\n",
      "8000/8000 [==============================] - 1s - loss: 0.4758 - acc: 0.7960     - ETA: 2s - loss: 0.5974 -\n",
      "Epoch 2/100\n",
      "8000/8000 [==============================] - 0s - loss: 0.4250 - acc: 0.7961     \n",
      "Epoch 3/100\n",
      "8000/8000 [==============================] - 0s - loss: 0.4177 - acc: 0.8249     \n",
      "Epoch 4/100\n",
      "8000/8000 [==============================] - 0s - loss: 0.4118 - acc: 0.8304     \n",
      "Epoch 5/100\n",
      "8000/8000 [==============================] - 0s - loss: 0.4084 - acc: 0.8321     \n",
      "Epoch 6/100\n",
      "8000/8000 [==============================] - 0s - loss: 0.4057 - acc: 0.8342     \n",
      "Epoch 7/100\n",
      "8000/8000 [==============================] - 1s - loss: 0.4040 - acc: 0.8336     \n",
      "Epoch 8/100\n",
      "8000/8000 [==============================] - 0s - loss: 0.4030 - acc: 0.8339     \n",
      "Epoch 9/100\n",
      "8000/8000 [==============================] - 0s - loss: 0.4015 - acc: 0.8340     \n",
      "Epoch 10/100\n",
      "8000/8000 [==============================] - 0s - loss: 0.4010 - acc: 0.8355     \n",
      "Epoch 11/100\n",
      "8000/8000 [==============================] - 0s - loss: 0.4000 - acc: 0.8339     \n",
      "Epoch 12/100\n",
      "8000/8000 [==============================] - 0s - loss: 0.3992 - acc: 0.8347     \n",
      "Epoch 13/100\n",
      "8000/8000 [==============================] - 0s - loss: 0.3988 - acc: 0.8349     \n",
      "Epoch 14/100\n",
      "8000/8000 [==============================] - 0s - loss: 0.3990 - acc: 0.8346     \n",
      "Epoch 15/100\n",
      "8000/8000 [==============================] - 0s - loss: 0.3982 - acc: 0.8356     \n",
      "Epoch 16/100\n",
      "8000/8000 [==============================] - 0s - loss: 0.3980 - acc: 0.8355     \n",
      "Epoch 17/100\n",
      "8000/8000 [==============================] - 0s - loss: 0.3983 - acc: 0.8350     \n",
      "Epoch 18/100\n",
      "8000/8000 [==============================] - 0s - loss: 0.3978 - acc: 0.8350     \n",
      "Epoch 19/100\n",
      "8000/8000 [==============================] - 0s - loss: 0.3973 - acc: 0.8336     \n",
      "Epoch 20/100\n",
      "8000/8000 [==============================] - 0s - loss: 0.3974 - acc: 0.8326     \n",
      "Epoch 21/100\n",
      "8000/8000 [==============================] - 0s - loss: 0.3973 - acc: 0.8336     \n",
      "Epoch 22/100\n",
      "8000/8000 [==============================] - 1s - loss: 0.3967 - acc: 0.8337     - ETA: 1s - loss: 0.4138 \n",
      "Epoch 23/100\n",
      "8000/8000 [==============================] - 0s - loss: 0.3964 - acc: 0.8336     \n",
      "Epoch 24/100\n",
      "8000/8000 [==============================] - 0s - loss: 0.3963 - acc: 0.8346     \n",
      "Epoch 25/100\n",
      "8000/8000 [==============================] - 1s - loss: 0.3959 - acc: 0.8355     \n",
      "Epoch 26/100\n",
      "8000/8000 [==============================] - 1s - loss: 0.3959 - acc: 0.8345     \n",
      "Epoch 27/100\n",
      "8000/8000 [==============================] - 0s - loss: 0.3958 - acc: 0.8365     \n",
      "Epoch 28/100\n",
      "8000/8000 [==============================] - 0s - loss: 0.3962 - acc: 0.8361     \n",
      "Epoch 29/100\n",
      "8000/8000 [==============================] - 0s - loss: 0.3959 - acc: 0.8330     \n",
      "Epoch 30/100\n",
      "8000/8000 [==============================] - 0s - loss: 0.3957 - acc: 0.8341     \n",
      "Epoch 31/100\n",
      "8000/8000 [==============================] - 0s - loss: 0.3953 - acc: 0.8355     \n",
      "Epoch 32/100\n",
      "8000/8000 [==============================] - 0s - loss: 0.3954 - acc: 0.8354     \n",
      "Epoch 33/100\n",
      "8000/8000 [==============================] - 0s - loss: 0.3949 - acc: 0.8347     \n",
      "Epoch 34/100\n",
      "8000/8000 [==============================] - 0s - loss: 0.3952 - acc: 0.8359     \n",
      "Epoch 35/100\n",
      "8000/8000 [==============================] - 0s - loss: 0.3943 - acc: 0.8361     \n",
      "Epoch 36/100\n",
      "8000/8000 [==============================] - 0s - loss: 0.3948 - acc: 0.8360     \n",
      "Epoch 37/100\n",
      "8000/8000 [==============================] - 0s - loss: 0.3936 - acc: 0.8359     \n",
      "Epoch 38/100\n",
      "8000/8000 [==============================] - 0s - loss: 0.3932 - acc: 0.8384     \n",
      "Epoch 39/100\n",
      "8000/8000 [==============================] - 0s - loss: 0.3931 - acc: 0.8374     \n",
      "Epoch 40/100\n",
      "8000/8000 [==============================] - 0s - loss: 0.3920 - acc: 0.8390     \n",
      "Epoch 41/100\n",
      "8000/8000 [==============================] - 0s - loss: 0.3911 - acc: 0.8372     \n",
      "Epoch 42/100\n",
      "8000/8000 [==============================] - 0s - loss: 0.3901 - acc: 0.8359     \n",
      "Epoch 43/100\n",
      "8000/8000 [==============================] - 0s - loss: 0.3894 - acc: 0.8356     \n",
      "Epoch 44/100\n",
      "8000/8000 [==============================] - 1s - loss: 0.3860 - acc: 0.8367     \n",
      "Epoch 45/100\n",
      "8000/8000 [==============================] - 1s - loss: 0.3822 - acc: 0.8359     \n",
      "Epoch 46/100\n",
      "8000/8000 [==============================] - 0s - loss: 0.3771 - acc: 0.8375     \n",
      "Epoch 47/100\n",
      "8000/8000 [==============================] - 0s - loss: 0.3721 - acc: 0.8399     \n",
      "Epoch 48/100\n",
      "8000/8000 [==============================] - 0s - loss: 0.3675 - acc: 0.8447     \n",
      "Epoch 49/100\n",
      "8000/8000 [==============================] - 0s - loss: 0.3637 - acc: 0.8515     \n",
      "Epoch 50/100\n",
      "8000/8000 [==============================] - 0s - loss: 0.3611 - acc: 0.8522     \n",
      "Epoch 51/100\n",
      "8000/8000 [==============================] - 0s - loss: 0.3585 - acc: 0.8561     \n",
      "Epoch 52/100\n",
      "8000/8000 [==============================] - 0s - loss: 0.3556 - acc: 0.8571     \n",
      "Epoch 53/100\n",
      "8000/8000 [==============================] - 0s - loss: 0.3538 - acc: 0.8589     \n",
      "Epoch 54/100\n",
      "8000/8000 [==============================] - 0s - loss: 0.3532 - acc: 0.8575     \n",
      "Epoch 55/100\n",
      "8000/8000 [==============================] - 0s - loss: 0.3519 - acc: 0.8592     \n",
      "Epoch 56/100\n",
      "8000/8000 [==============================] - 0s - loss: 0.3516 - acc: 0.8595     \n",
      "Epoch 57/100\n",
      "8000/8000 [==============================] - 0s - loss: 0.3499 - acc: 0.8612     \n",
      "Epoch 58/100\n",
      "8000/8000 [==============================] - 0s - loss: 0.3499 - acc: 0.8597     \n",
      "Epoch 59/100\n",
      "8000/8000 [==============================] - 0s - loss: 0.3493 - acc: 0.8606     \n",
      "Epoch 60/100\n",
      "8000/8000 [==============================] - 0s - loss: 0.3495 - acc: 0.8594     \n",
      "Epoch 61/100\n",
      "8000/8000 [==============================] - 0s - loss: 0.3485 - acc: 0.8591     \n",
      "Epoch 62/100\n",
      "8000/8000 [==============================] - 0s - loss: 0.3489 - acc: 0.8614     \n",
      "Epoch 63/100\n",
      "8000/8000 [==============================] - 1s - loss: 0.3483 - acc: 0.8611     \n",
      "Epoch 64/100\n",
      "8000/8000 [==============================] - 1s - loss: 0.3477 - acc: 0.8617     \n",
      "Epoch 65/100\n",
      "8000/8000 [==============================] - 0s - loss: 0.3475 - acc: 0.8631     \n",
      "Epoch 66/100\n",
      "8000/8000 [==============================] - 0s - loss: 0.3473 - acc: 0.8609     \n",
      "Epoch 67/100\n",
      "8000/8000 [==============================] - 0s - loss: 0.3467 - acc: 0.8597     \n",
      "Epoch 68/100\n",
      "8000/8000 [==============================] - 0s - loss: 0.3470 - acc: 0.8602     \n",
      "Epoch 69/100\n",
      "8000/8000 [==============================] - 0s - loss: 0.3467 - acc: 0.8590     \n",
      "Epoch 70/100\n",
      "8000/8000 [==============================] - 0s - loss: 0.3460 - acc: 0.8616     \n",
      "Epoch 71/100\n",
      "8000/8000 [==============================] - 0s - loss: 0.3458 - acc: 0.8609     \n",
      "Epoch 72/100\n",
      "8000/8000 [==============================] - 0s - loss: 0.3459 - acc: 0.8619     \n",
      "Epoch 73/100\n",
      "8000/8000 [==============================] - 0s - loss: 0.3457 - acc: 0.8596     \n",
      "Epoch 74/100\n",
      "8000/8000 [==============================] - 0s - loss: 0.3454 - acc: 0.8620     \n",
      "Epoch 75/100\n",
      "8000/8000 [==============================] - 0s - loss: 0.3452 - acc: 0.8626     \n",
      "Epoch 76/100\n",
      "8000/8000 [==============================] - 0s - loss: 0.3456 - acc: 0.8587     \n",
      "Epoch 77/100\n",
      "8000/8000 [==============================] - 0s - loss: 0.3455 - acc: 0.8626     - ETA: 0s - loss: 0.3508 - a\n",
      "Epoch 78/100\n",
      "8000/8000 [==============================] - 0s - loss: 0.3444 - acc: 0.8636     \n",
      "Epoch 79/100\n",
      "8000/8000 [==============================] - 0s - loss: 0.3447 - acc: 0.8634     - ETA: 0s - loss: 0.3445 - acc: 0.86\n",
      "Epoch 80/100\n",
      "8000/8000 [==============================] - 0s - loss: 0.3453 - acc: 0.8596     \n",
      "Epoch 81/100\n",
      "8000/8000 [==============================] - 1s - loss: 0.3449 - acc: 0.8610     - ETA: 0s - loss: 0.3451 - acc: 0.\n",
      "Epoch 82/100\n",
      "8000/8000 [==============================] - 1s - loss: 0.3442 - acc: 0.8619     \n",
      "Epoch 83/100\n",
      "8000/8000 [==============================] - 0s - loss: 0.3441 - acc: 0.8620     \n",
      "Epoch 84/100\n",
      "8000/8000 [==============================] - 0s - loss: 0.3442 - acc: 0.8610     \n",
      "Epoch 85/100\n"
     ]
    },
    {
     "name": "stdout",
     "output_type": "stream",
     "text": [
      "8000/8000 [==============================] - 0s - loss: 0.3440 - acc: 0.8617     \n",
      "Epoch 86/100\n",
      "8000/8000 [==============================] - 0s - loss: 0.3435 - acc: 0.8625     \n",
      "Epoch 87/100\n",
      "8000/8000 [==============================] - 0s - loss: 0.3438 - acc: 0.8609     \n",
      "Epoch 88/100\n",
      "8000/8000 [==============================] - 0s - loss: 0.3436 - acc: 0.8607     \n",
      "Epoch 89/100\n",
      "8000/8000 [==============================] - 0s - loss: 0.3442 - acc: 0.8605     \n",
      "Epoch 90/100\n",
      "8000/8000 [==============================] - 0s - loss: 0.3435 - acc: 0.8590     \n",
      "Epoch 91/100\n",
      "8000/8000 [==============================] - 0s - loss: 0.3434 - acc: 0.8629     \n",
      "Epoch 92/100\n",
      "8000/8000 [==============================] - 0s - loss: 0.3439 - acc: 0.8594     \n",
      "Epoch 93/100\n",
      "8000/8000 [==============================] - 0s - loss: 0.3436 - acc: 0.8595     \n",
      "Epoch 94/100\n",
      "8000/8000 [==============================] - 0s - loss: 0.3443 - acc: 0.8612     \n",
      "Epoch 95/100\n",
      "8000/8000 [==============================] - 0s - loss: 0.3432 - acc: 0.8596     \n",
      "Epoch 96/100\n",
      "8000/8000 [==============================] - 0s - loss: 0.3439 - acc: 0.8599     \n",
      "Epoch 97/100\n",
      "8000/8000 [==============================] - 0s - loss: 0.3429 - acc: 0.8611     \n",
      "Epoch 98/100\n",
      "8000/8000 [==============================] - 0s - loss: 0.3433 - acc: 0.8616     \n",
      "Epoch 99/100\n",
      "8000/8000 [==============================] - 0s - loss: 0.3430 - acc: 0.8605     \n",
      "Epoch 100/100\n",
      "8000/8000 [==============================] - 0s - loss: 0.3431 - acc: 0.8604     \n"
     ]
    },
    {
     "data": {
      "text/plain": [
       "<keras.callbacks.History at 0x1e821f91b38>"
      ]
     },
     "execution_count": 15,
     "metadata": {},
     "output_type": "execute_result"
    }
   ],
   "source": [
    "# Fitting the ANN to the Training set\n",
    "classifier.fit(X_train, y_train, batch_size = 10, nb_epoch = 100)"
   ]
  },
  {
   "cell_type": "code",
   "execution_count": 16,
   "metadata": {
    "collapsed": true
   },
   "outputs": [],
   "source": [
    "# Predicting the Test set results\n",
    "y_pred = classifier.predict(X_test)\n",
    "y_pred = (y_pred > 0.5)"
   ]
  },
  {
   "cell_type": "code",
   "execution_count": 18,
   "metadata": {
    "collapsed": true
   },
   "outputs": [],
   "source": [
    "# Making the Confusion Matrix\n",
    "from sklearn.metrics import confusion_matrix\n",
    "cm = confusion_matrix(y_test, y_pred)"
   ]
  },
  {
   "cell_type": "code",
   "execution_count": 20,
   "metadata": {},
   "outputs": [
    {
     "data": {
      "text/plain": [
       "array([[1479,  116],\n",
       "       [ 167,  238]], dtype=int64)"
      ]
     },
     "execution_count": 20,
     "metadata": {},
     "output_type": "execute_result"
    }
   ],
   "source": [
    "cm"
   ]
  },
  {
   "cell_type": "code",
   "execution_count": 21,
   "metadata": {},
   "outputs": [
    {
     "data": {
      "text/plain": [
       "array([[False],\n",
       "       [False],\n",
       "       [False],\n",
       "       ..., \n",
       "       [False],\n",
       "       [False],\n",
       "       [False]], dtype=bool)"
      ]
     },
     "execution_count": 21,
     "metadata": {},
     "output_type": "execute_result"
    }
   ],
   "source": [
    "y_pred"
   ]
  }
 ],
 "metadata": {
  "kernelspec": {
   "display_name": "Python 3",
   "language": "python",
   "name": "python3"
  },
  "language_info": {
   "codemirror_mode": {
    "name": "ipython",
    "version": 3
   },
   "file_extension": ".py",
   "mimetype": "text/x-python",
   "name": "python",
   "nbconvert_exporter": "python",
   "pygments_lexer": "ipython3",
   "version": "3.6.3"
  }
 },
 "nbformat": 4,
 "nbformat_minor": 2
}
